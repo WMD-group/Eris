{
 "cells": [
  {
   "cell_type": "markdown",
   "metadata": {},
   "source": [
    "**To-do:** Extract scripts from notebook and adapt to iterate over system size. Currently the notebook must be run for each system size individually and at the bottom of the notebook 'Z-Zpeak_vs_T' files for each system size are plotted together manually.\n",
    "\n",
    "\n",
    "# Analysis of 1st Zn-Zn PCF peak\n",
    "This script allows us to investigate the difference in the PCF peak intensity of nearest-neighbour Zn-to-Zn ions.\n",
    "\n",
    "We use this as an order parameter because disorder in the Cu-Zn planes results in the emergence of a new nearest-neighbour Zn-Zn peak due to the clustering of Zn ions, when compared to a reference ordered CZTS lattice. \n",
    "\n",
    "## Eris simulation flags\n",
    "By default Eris will output initial and final PCFs (called RDF's by Eris) for all pairs of species. To output an RDF after each MCMegaStep (as used in this script) you must set the **'CalculateRadialOrderParameter'** flag to true. Ensure that MCMegaSteps is several multiples of MCEqmSteps to allow for lots of independent data to analyse.\n",
    "\n",
    "\n",
    "## User defined inputs\n",
    "The first two code cells contain the only calculation parameters that need to be inputted into the script by the user and they will be reused throughout the notebook. First add the temperature range and MCSteps requested in the top bash script, then add in the details requested for python script inputs directly below that (including system dimensions). \n",
    "\n",
    "**Make sure to run each cell!**"
   ]
  },
  {
   "cell_type": "markdown",
   "metadata": {},
   "source": [
    "## 1. Sort raw outputs from Eris\n",
    "As for other RDF scripts, if this is the first time plotting this RDF data, it may be necessary to run this bash script to comment out the first data line in the RDF files (which corresponds to the RDF of a species with itself, giving r=0 and an infinite 1/r!). It doesn't matter if this has been run before, you'll just end up with multiple '#'s in your commented out line - better safe than sorry!"
   ]
  },
  {
   "cell_type": "code",
   "execution_count": 1,
   "metadata": {},
   "outputs": [
    {
     "name": "stderr",
     "output_type": "stream",
     "text": [
      "mv: rename RDF_data to RDF_data/RDF_data: Invalid argument\n"
     ]
    }
   ],
   "source": [
    "%%bash\n",
    "\n",
    "### USER INPUTS\n",
    "# Setting the temperature range (as defined in cx1 submission script)\n",
    "TMAX=1000\n",
    "TMIN=0\n",
    "TSTEP=50\n",
    "# Setting MCSteps (as defined in eris.cfg)\n",
    "MCEqmSteps=200\n",
    "MCMegaSteps=2\n",
    "# ---------------------------------------------------------------------\n",
    "# No edits below here needed\n",
    "\n",
    "# Define step size so that we analyse outputs in increments of MCEqmSteps (data should be de-coupled)\n",
    "StepSize=$(bc <<< \"${MCEqmSteps}/10\" )\n",
    "\n",
    "# Moving data to a separate directory (if not done already)\n",
    "if [ ! -d \"RDF_data\" ]; then\n",
    "  mkdir RDF_data\n",
    "  mv RDF* RDF_data\n",
    "fi\n",
    "\n",
    "# Looping over files we want to analyse, comment out first line (infinite PCF of species with itself)\n",
    "for temp in $(seq -w $TMIN $TSTEP $TMAX)\n",
    "do\n",
    "  for output in $(seq -f \"%05g\" 1 $StepSize $MCMegaSteps) \n",
    "  do\n",
    "    sed -e '2s/^/#/' RDF_data/RDF_Z_Z_Temp_${temp}_Step_${output}.dat > RDF_data/tmp.dat\n",
    "    mv RDF_data/tmp.dat RDF_data/RDF_Z_Z_Temp_${temp}_Step_${output}.dat\n",
    "  done\n",
    "done"
   ]
  },
  {
   "cell_type": "markdown",
   "metadata": {},
   "source": [
    "## 2. User inputs for python scripts"
   ]
  },
  {
   "cell_type": "code",
   "execution_count": 2,
   "metadata": {
    "collapsed": true
   },
   "outputs": [],
   "source": [
    "# Setting the temperature range (as defined in cx1 submission script)\n",
    "TMAX=1000\n",
    "TMIN=0\n",
    "TSTEP=50\n",
    "\n",
    "# Setting MCSteps (as defined in eris.cfg)\n",
    "MCEqmSteps=200\n",
    "MCMegaSteps=2\n",
    "\n",
    "# Enter dimensions of system (as defined in eris-config.c)\n",
    "X_dim = 12\n",
    "Y_dim = 12\n",
    "Z_dim = 12\n",
    "#-------------------------------------------------------------------\n",
    "# No edits below here needed\n",
    "\n",
    "# Define step size so that we analyse outputs in increments of MCEqmSteps/10 \n",
    "# We gather data 10x more regularly than the equilibriation time after our equilibration burn-in\n",
    "# Define total number of outputs (portion of total MC steps) for each T to analyse\n",
    "#StepSize=MCEqmSteps/10\n",
    "#outputs_tot=(MCMegaSteps/StepSize)\n",
    "outputs_tot=1"
   ]
  },
  {
   "cell_type": "markdown",
   "metadata": {},
   "source": [
    "The following sections do not require further user inputs, just run the cells in turn.\n"
   ]
  },
  {
   "cell_type": "markdown",
   "metadata": {},
   "source": [
    "## 3. Plotting the first peak intensity as a function of temperature for each system size\n",
    "Below is a script to create a file of just the first peak of the Zn-Zn PCF for each similation temperature so that we can investigate the peak intensity as a function of temperature-induced Cu-Zn disorder.\n",
    "\n",
    "Ensure that the temperature range entered above matches that used in the eris simulation."
   ]
  },
  {
   "cell_type": "code",
   "execution_count": 8,
   "metadata": {
    "scrolled": true
   },
   "outputs": [
    {
     "data": {
      "image/png": "[encoded data removed]",
      "text/plain": [
       "<Figure size 432x288 with 1 Axes>"
      ]
     },
     "metadata": {},
     "output_type": "display_data"
    }
   ],
   "source": [
    "%matplotlib inline\n",
    "import sys\n",
    "import numpy as np\n",
    "import math\n",
    "import matplotlib.pyplot as plt\n",
    "import pandas as pd\n",
    "#from IPython.core.pylabtools import figsize\n",
    "#figsize(10, 10)\n",
    "\n",
    "T_plot = np.arange(TMIN, TMAX+TSTEP, TSTEP)\n",
    "Z_Z_peak1 = []\n",
    "Z_Z_peak1_single_run = []\n",
    "Z_Z_peak1_av = []\n",
    "data_files = []\n",
    "\n",
    "# Looping through RDF data files we want to analyse and writing first peak to a file\n",
    "# Looping over T\n",
    "for i in range(0, len(T_plot)): # Looping over all T's\n",
    "    temperature = str(T_plot[i])\n",
    "    temperature_formatted = str(temperature).zfill(4)\n",
    "    # Looping over outputs every MCEqmSteps/10 MCMegaStep at each T\n",
    "#    for j in range(1, MCMegaSteps+1, int(StepSize)):\n",
    "    for j in range(1, 2, 1):\n",
    "        output_formatted = str(j).zfill(5)\n",
    "        data_files.append(\"RDF_data/RDF_Z_Z_Temp_\"+str(temperature_formatted)+\"_Step_\"+str(output_formatted)+\".dat\")      \n",
    "\n",
    "for i in range (0,len(data_files)):\n",
    "    simulation_data= np.genfromtxt(data_files[i], delimiter = ' ')\n",
    "    # Append first Z-Z peak intensity for all T and multiples runs to the same list\n",
    "    # Element selected below corresponds to RDF[lattice] for r_sq=2, noting that the first two rows are commented out\n",
    "    Z_Z_peak1.append(simulation_data[1,2])\n",
    "    \n",
    "# Averaging over multiple outputs for each T and also outputting single run for testing purposes\n",
    "# Step size of outputs_tot to loop over outputs in list for each T\n",
    "for i in range(0, len(Z_Z_peak1), int(outputs_tot)):\n",
    "    Z_Z_peak1_single_run.append(Z_Z_peak1[i]) # Taking first value for each T\n",
    "    Z_Z_peak1_av.append(sum(Z_Z_peak1[i:i+int(outputs_tot-1)])/outputs_tot) # Averaging over all outputs for each T\n",
    "    \n",
    "# Writing T's and Q's to a file to plot multiple systems together later\n",
    "plot_data = pd.DataFrame({'# T' : T_plot, 'Averaged Z-Z 1st peak' : Z_Z_peak1_single_run})\n",
    "Z_Z_peak_file='Z-Zpeak_vs_T'+str(X_dim)+'x'+str(Y_dim)+'x'+str(Z_dim)+'.dat'\n",
    "plot_data.to_csv(Z_Z_peak_file, sep=' ', index=False, header=False)\n",
    "\n",
    "#plt.plot(T_plot, Z_Z_peak1_av)\n",
    "plt.plot(T_plot, Z_Z_peak1_single_run)  # For testing purposes, to check that runs were de-coupled (i.e. av not exactly same as single run)\n",
    "plt.xlabel('T (K)')\n",
    "plt.ylabel('Nearest-neighbour Zn-Zn PCF peak intensity')\n",
    "plt.show()\n"
   ]
  },
  {
   "cell_type": "markdown",
   "metadata": {},
   "source": [
    "### 4. Plotting for various system sizes\n",
    "Repeat step 3 for various system sizes (making sure to update the system size in step 2 each time).\n",
    "\n",
    "Then enter the dimensions for each system size you wish to plot for in the script below. This is currently pretty clunky and repetitive - would be nicer to loop over this!"
   ]
  },
  {
   "cell_type": "code",
   "execution_count": 7,
   "metadata": {},
   "outputs": [
    {
     "data": {
      "image/png": "[encoded data removed]",
      "text/plain": [
       "<Figure size 720x576 with 1 Axes>"
      ]
     },
     "metadata": {},
     "output_type": "display_data"
    }
   ],
   "source": [
    "# Enter dimensions of the systems\n",
    "# System 1\n",
    "X1 = 12\n",
    "Y1 = 12\n",
    "Z1 = 12\n",
    "# System 2\n",
    "X2 = 16\n",
    "Y2 = 16\n",
    "Z2 = 16\n",
    "# System 3\n",
    "X3 = 20\n",
    "Y3 = 20\n",
    "Z3 = 20\n",
    "# System 4\n",
    "X4 = 24\n",
    "Y4 = 24\n",
    "Z4 = 24\n",
    "# System 5\n",
    "X5 = 28\n",
    "Y5 = 28\n",
    "Z5 = 28\n",
    "# System 6\n",
    "X6 = 32\n",
    "Y6 = 32\n",
    "Z6 = 32\n",
    "\n",
    "\n",
    "import sys\n",
    "import numpy as np\n",
    "import math\n",
    "import matplotlib.pyplot as plt\n",
    "import pandas as pd\n",
    "from IPython.core.pylabtools import figsize\n",
    "figsize(10, 8)\n",
    "\n",
    "data1= np.genfromtxt('Z-Zpeak_vs_T'+str(X1)+'x'+str(Y1)+'x'+str(Z1)+'.dat', delimiter = ' ')\n",
    "data2= np.genfromtxt('Z-Zpeak_vs_T'+str(X2)+'x'+str(Y2)+'x'+str(Z2)+'.dat', delimiter = ' ')\n",
    "data3= np.genfromtxt('Z-Zpeak_vs_T'+str(X3)+'x'+str(Y3)+'x'+str(Z3)+'.dat', delimiter = ' ')\n",
    "data4= np.genfromtxt('Z-Zpeak_vs_T'+str(X4)+'x'+str(Y4)+'x'+str(Z4)+'.dat', delimiter = ' ')\n",
    "data5= np.genfromtxt('Z-Zpeak_vs_T'+str(X5)+'x'+str(Y5)+'x'+str(Z5)+'.dat', delimiter = ' ')\n",
    "data6= np.genfromtxt('Z-Zpeak_vs_T'+str(X6)+'x'+str(Y6)+'x'+str(Z6)+'.dat', delimiter = ' ')\n",
    "\n",
    "\n",
    "plt.plot(data1[:,0], data1[:,1], color=plt.cm.bone(0.7), label=str(X1)+'x'+str(Y1)+'x'+str(Z1))\n",
    "plt.plot(data2[:,0], data2[:,1], color=plt.cm.bone(0.63), label=str(X2)+'x'+str(Y2)+'x'+str(Z2))\n",
    "plt.plot(data3[:,0], data3[:,1], color=plt.cm.bone(0.56), label=str(X3)+'x'+str(Y3)+'x'+str(Z3))\n",
    "plt.plot(data4[:,0], data4[:,1], color=plt.cm.bone(0.49), label=str(X4)+'x'+str(Y4)+'x'+str(Z4))\n",
    "plt.plot(data5[:,0], data5[:,1], color=plt.cm.bone(0.42), label=str(X5)+'x'+str(Y5)+'x'+str(Z5))\n",
    "plt.plot(data6[:,0], data6[:,1], color=plt.cm.bone(0.35), label=str(X6)+'x'+str(Y6)+'x'+str(Z6))\n",
    "plt.xlabel('T (K)')\n",
    "plt.ylabel('Nearest-neighbour Zn-Zn PCF peak intensity')\n",
    "plt.legend(frameon=False)\n",
    "\n",
    "#plt.xlim([150,850])\n",
    "plt.rcParams.update({'font.size': 16})\n",
    "\n",
    "plt.savefig(\"PCF_finite_size.png\")\n",
    "plt.show()"
   ]
  },
  {
   "cell_type": "code",
   "execution_count": null,
   "metadata": {
    "collapsed": true
   },
   "outputs": [],
   "source": []
  },
  {
   "cell_type": "code",
   "execution_count": null,
   "metadata": {
    "collapsed": true
   },
   "outputs": [],
   "source": []
  }
 ],
 "metadata": {
  "kernelspec": {
   "display_name": "Python 3",
   "language": "python",
   "name": "python3"
  },
  "language_info": {
   "codemirror_mode": {
    "name": "ipython",
    "version": 2
   },
   "file_extension": ".py",
   "mimetype": "text/x-python",
   "name": "python",
   "nbconvert_exporter": "python",
   "pygments_lexer": "ipython2",
   "version": "2.7.3"
  }
 },
 "nbformat": 4,
 "nbformat_minor": 2
}
