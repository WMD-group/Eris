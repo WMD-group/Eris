{
 "cells": [
  {
   "cell_type": "markdown",
   "metadata": {},
   "source": [
    "# Checking for convergence in dE with cut off radius\n",
    "This script checks for the convergence in the change in lattice energy, dE, before and after performing a Monte Carlo move in Eris. The lattice energy is calculated by performing a summation over lattice electrostatics out to a finite cut off radius. dE is used in Eris to evolve the system towards, i.e. the accept/ reject criteria for Monte Carlo moves (nearest-neighbour Cu-Zn swaps) is based on this value.\n",
    "\n",
    "This test is used to determine a suitable value to set `ElectroStaticsCutOff` to in eris.cfg for subsequent simulations.\n",
    "\n",
    "## Eris simulation flags\n",
    "Set the flag `ElectrostaticsCheck` in eris.cfg to be true. This will then output files dE_conv_T_TEMP.dat, where the file appends for each different attempted move."
   ]
  },
  {
   "cell_type": "markdown",
   "metadata": {},
   "source": [
    "### Step 1 - Split up the attempted MC moves\n",
    "Use the bash script below to separate the outputted dE calculated for different MC moves. This script below generates a file where all odd columns are the cut off radius (so are the same) and each even column corresponds to the dE calculated for a different MC move with increasing ut off radius.\n",
    "\n",
    "In the bash script below, enter the temperature range and step size used in the Eris simulation and also add the value for loop_step generated in the python script below based on lattice dimensions you enter into the script."
   ]
  },
  {
   "cell_type": "code",
   "execution_count": null,
   "metadata": {},
   "outputs": [
    {
     "name": "stdout",
     "output_type": "stream",
     "text": [
      "15.0\n"
     ]
    }
   ],
   "source": [
    "import math\n",
    "\n",
    "# User inputs\n",
    "X_dim=28\n",
    "Y_dim=28\n",
    "Z_dim=28\n",
    "\n",
    "# Define half smallest dim of lattice (used as r_cutoff,max for dE check)\n",
    "# Add 1 to value for r_cutoff,max to account for top comment line\n",
    "loop_step=math.floor(min(X_dim,Y_dim,Z_dim)/2)+1\n",
    "print(loop_step)"
   ]
  },
  {
   "cell_type": "code",
   "execution_count": null,
   "metadata": {},
   "outputs": [],
   "source": [
    "%%bash\n",
    "\n",
    "# User inputs\n",
    "loop_step=15 # Please take value outputted above (as an int)\n",
    "T_min=0\n",
    "T_max=1000\n",
    "T_step=50\n",
    "\n",
    "# -------------------------------------------------------------------------------\n",
    "loop_max=100\n",
    "\n",
    "# Move dE convergence outputs to a separate directory, keep things tidy\n",
    "mkdir data\n",
    "mv dE_conv* data\n",
    "\n",
    "for temp in $(seq $T_min $T_step $T_max)\n",
    "do\n",
    "    temp_formatted=$(printf \"%04d\" $temp)\n",
    "\n",
    "    # Loop over dE input file, write each segment to a temporary file, paste together into columns of one file, delete tmp files\n",
    "    for i in $(seq 1 $loop_step $loop_max)\n",
    "    do\n",
    "        # Copy next segment to new file\n",
    "        loop_end=$(echo \"$i+$loop_step-1\" | bc)\n",
    "        sed -n \"$i\",\"$loop_end\"p data/dE_conv_check_T_${temp_formatted}.dat > data/tmp_${i}.dat \n",
    "\n",
    "    done  \n",
    "\n",
    "# Paste all temporary files together, 2 columns for each different move attempted for dE calculation\n",
    "paste data/tmp* > data/dE_split_cols_T_${temp_formatted}.dat\n",
    "# Delete temporary files\n",
    "rm data/tmp*\n",
    "\n",
    "done"
   ]
  },
  {
   "cell_type": "markdown",
   "metadata": {},
   "source": [
    "### Step 2 - Plotting!\n",
    "The next script plots dE calculated for one attempted MC move at each simulation temperature calculation with a cut off radius of 1 to r_max for the summation of lattice electrostatics.\n",
    "\n",
    "The first column of dE_split_cols_T_TEMP.dat is always used for r in the plot (column index 0), then all odd number columns corresponds to the dE calculated for different attempted MC moves. Not that we did not distinguish between accepted and reject moves here.\n",
    "\n",
    "Choose the temperatures you wish to generate the plot for. Currently this is just set to a list of 6 temperatures."
   ]
  },
  {
   "cell_type": "code",
   "execution_count": null,
   "metadata": {},
   "outputs": [],
   "source": [
    "%matplotlib inline\n",
    "import matplotlib.pyplot as plt\n",
    "import numpy as np\n",
    "from IPython.core.pylabtools import figsize\n",
    "figsize(14, 12)\n",
    "\n",
    "# Set list of temperatures\n",
    "T=(50, 100, 300, 500, 700, 900)\n",
    "\n",
    "# --------------------------------------------------------------------------\n",
    "\n",
    "data_file0='data/dE_split_cols_T_'+str(T[0]).zfill(4)+'.dat'\n",
    "data0= np.genfromtxt(data_file0, delimiter = ' ')\n",
    "data_file1='data/dE_split_cols_T_'+str(T[1]).zfill(4)+'.dat'\n",
    "data1= np.genfromtxt(data_file1, delimiter = ' ')\n",
    "data_file2='data/dE_split_cols_T_'+str(T[2]).zfill(4)+'.dat'\n",
    "data2= np.genfromtxt(data_file2, delimiter = ' ')\n",
    "data_file3='data/dE_split_cols_T_'+str(T[3]).zfill(4)+'.dat'\n",
    "data3= np.genfromtxt(data_file3, delimiter = ' ')\n",
    "data_file4='data/dE_split_cols_T_'+str(T[4]).zfill(4)+'.dat'\n",
    "data4= np.genfromtxt(data_file4, delimiter = ' ')\n",
    "data_file5='data/dE_split_cols_T_'+str(T[5]).zfill(4)+'.dat'\n",
    "data5= np.genfromtxt(data_file5, delimiter = ' ')\n",
    "    \n",
    "# It is here that the second column of data to plot should be changed (this is the column scaled by 0.025)\n",
    "# Different odd column numbers should be trialed until a sensible MC move has been attempted\n",
    "# Multiply each dE by 0.025 (kBT at 300K)\n",
    "plt.plot(data0[:,0], 0.025*data0[:,1], label='T='+str(T[0])+'K')\n",
    "plt.plot(data1[:,0], 0.025*data1[:,5], label='T='+str(T[1])+'K')\n",
    "plt.plot(data2[:,0], 0.025*data2[:,5], label='T='+str(T[2])+'K')\n",
    "plt.plot(data3[:,0], 0.025*data3[:,1], label='T='+str(T[3])+'K')\n",
    "plt.plot(data4[:,0], 0.025*data4[:,9], label='T='+str(T[4])+'K')\n",
    "plt.plot(data5[:,0], 0.025*data5[:,5], label='T='+str(T[5])+'K')\n",
    "\n",
    "plt.xlabel('r (lattice units)')\n",
    "plt.ylabel('dE (eV)')\n",
    "plt.legend()\n",
    "plt.show()"
   ]
  },
  {
   "cell_type": "code",
   "execution_count": null,
   "metadata": {
    "collapsed": true
   },
   "outputs": [],
   "source": []
  }
 ],
 "metadata": {
  "kernelspec": {
   "display_name": "Python 3",
   "language": "python",
   "name": "python3"
  },
  "language_info": {
   "codemirror_mode": {
    "name": "ipython",
    "version": 2
   },
   "file_extension": ".py",
   "mimetype": "text/x-python",
   "name": "python",
   "nbconvert_exporter": "python",
   "pygments_lexer": "ipython2",
   "version": "2.7.3"
  }
 },
 "nbformat": 4,
 "nbformat_minor": 1
}
