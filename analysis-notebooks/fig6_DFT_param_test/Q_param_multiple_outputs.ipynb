{
 "cells": [
  {
   "cell_type": "markdown",
   "metadata": {
    "collapsed": true
   },
   "source": [
    "**To-do:** Extract scripts from notebook and adapt to iterate over system size. Currently the notebook must be run for each system size individually and at the bottom of the notebook 'Q_vs_T' files for each system size are plotted together manually.\n",
    "\n",
    "\n",
    "# Calculating order parameter Q as a function of temperature\n",
    "\n",
    "This notebook allows you to calculate the order parameter Q based on the occupancy of Cu 2c sites and Zn 2d sites in kesterite-structured Cu2ZnSnS4 (CZTS). This order parameter has been used in a number of experimental studies investigating temperature-dependent Cu-Zn substitutional disorder in CZTS, such as [here](http://onlinelibrary.wiley.com/doi/10.1002/pssb.201600372/abstract).\n",
    "\n",
    "The order parameter is given by:\n",
    "\n",
    "Q = [ (Cu-on-2c + Zn-on-2d) - (Zn-on-2c + Cu-on-2d) ] / [ (Cu-on-2c + Zn-on-2d) + (Zn-on-2c + Cu-on-2d) ]\n",
    "\n",
    "Where in a fully ordered system, all 2c sites should be occupied by Cu and all 2d sites by Zn. This situation corresponds to Q=1. For a fully disordered system, there is no preference for Cu or Zn to occupy the correct crystallographic site and Q=0.\n",
    "\n",
    "## Eris simulation flags\n",
    "\n",
    "The script takes input lattice configurations outputted from Eris in the format of input files for the gulp code. \n",
    "\n",
    "It is therefore necessary to set the **'SaveGULP'** flag in eris.cfs to true. \n",
    "\n",
    "Also, to get a gulp input file written after every MCMegaStep set the flag **'ExtraData'** also to true.\n",
    "\n",
    "Ensure that MCMegaSteps is several multiples of MCEqmSteps to allow for lots of independent data to analyse.\n",
    "\n",
    "\n",
    "## 1. Sort raw data from Eris and generate directory to store outputs from this analysis"
   ]
  },
  {
   "cell_type": "code",
   "execution_count": 1,
   "metadata": {
    "collapsed": true
   },
   "outputs": [],
   "source": [
    "%%bash\n",
    "\n",
    "# Make directory to store outputs from Q calculation (if it doesn't already exist)\n",
    "if [ ! -d \"Q_data\" ]; then\n",
    "  mkdir Q_data\n",
    "fi\n",
    "\n",
    "### REMOVED BELOW STEP DUE TO TOO MANY FILES! - '-bash: /bin/mv: Argument list too long'\n",
    "# Moving data to a separate directory (if not done already)\n",
    "#if [ ! -d \"GULP_inputs\" ]; then\n",
    "#  mkdir GULP_inputs\n",
    "#  mv Gulp_* GULP_inputs\n",
    "#fi"
   ]
  },
  {
   "cell_type": "markdown",
   "metadata": {},
   "source": [
    "## 2. User inputs\n",
    "\n",
    "Firstly, the script must be run in the same directory as the gulp input files written by Eris.\n",
    "\n",
    "The only inputs needed for the script to calculate Q versus simulation temperature are the lattice dimensions from the Eris simulation, the temperature range and increments used in the Eris simulation and to ensure that the correct name has been given for the gulp input files in the script below, where the simulation temperatures will be added into the filename later by the script."
   ]
  },
  {
   "cell_type": "code",
   "execution_count": 2,
   "metadata": {
    "collapsed": true
   },
   "outputs": [],
   "source": [
    "############################## USER INPUTS #########################################\n",
    "\n",
    "# Temperature range and step size from Eris simulation (as defined in cx1 submission script)\n",
    "TMIN = 0\n",
    "TMAX = 1000\n",
    "TSTEP = 50\n",
    "\n",
    "# Setting MCSteps (as defined in eris.cfg)\n",
    "MCEqmSteps = 50\n",
    "MCMegaSteps = 10\n",
    "\n",
    "# Enter dimensions of lattice (as defined in eris-config.c)\n",
    "X_dim = 64\n",
    "Y_dim = 64\n",
    "Z_dim = 64\n",
    "#-------------------------------------------------------------------\n",
    "# No edits below here needed\n",
    "\n",
    "# Define step size so that we analyse outputs in increments of MCEqmSteps/10 \n",
    "# We gather data 10x more regularly than the equilibriation time after our equilibration burn-in\n",
    "# Define total number of outputs (portion of total MC steps) for each T to analyse\n",
    "StepSize=MCEqmSteps/10\n",
    "outputs_tot=(MCMegaSteps/StepSize)"
   ]
  },
  {
   "cell_type": "markdown",
   "metadata": {},
   "source": [
    "## 3. Check that the list of gulp file names matches those output from Eris\n",
    "\n",
    "Next, we generate the list of data files to calculate Q for, again, double check here that the script is using the same filenames for the gulp input files written by Eris. \n"
   ]
  },
  {
   "cell_type": "code",
   "execution_count": 3,
   "metadata": {
    "scrolled": true
   },
   "outputs": [
    {
     "name": "stdout",
     "output_type": "stream",
     "text": [
      "['Gulp_T_0000_MCS_00001.in', 'Gulp_T_0000_MCS_00006.in', 'Gulp_T_0050_MCS_00001.in', 'Gulp_T_0050_MCS_00006.in', 'Gulp_T_0100_MCS_00001.in', 'Gulp_T_0100_MCS_00006.in', 'Gulp_T_0150_MCS_00001.in', 'Gulp_T_0150_MCS_00006.in', 'Gulp_T_0200_MCS_00001.in', 'Gulp_T_0200_MCS_00006.in', 'Gulp_T_0250_MCS_00001.in', 'Gulp_T_0250_MCS_00006.in', 'Gulp_T_0300_MCS_00001.in', 'Gulp_T_0300_MCS_00006.in', 'Gulp_T_0350_MCS_00001.in', 'Gulp_T_0350_MCS_00006.in', 'Gulp_T_0400_MCS_00001.in', 'Gulp_T_0400_MCS_00006.in', 'Gulp_T_0450_MCS_00001.in', 'Gulp_T_0450_MCS_00006.in', 'Gulp_T_0500_MCS_00001.in', 'Gulp_T_0500_MCS_00006.in', 'Gulp_T_0550_MCS_00001.in', 'Gulp_T_0550_MCS_00006.in', 'Gulp_T_0600_MCS_00001.in', 'Gulp_T_0600_MCS_00006.in', 'Gulp_T_0650_MCS_00001.in', 'Gulp_T_0650_MCS_00006.in', 'Gulp_T_0700_MCS_00001.in', 'Gulp_T_0700_MCS_00006.in', 'Gulp_T_0750_MCS_00001.in', 'Gulp_T_0750_MCS_00006.in', 'Gulp_T_0800_MCS_00001.in', 'Gulp_T_0800_MCS_00006.in', 'Gulp_T_0850_MCS_00001.in', 'Gulp_T_0850_MCS_00006.in', 'Gulp_T_0900_MCS_00001.in', 'Gulp_T_0900_MCS_00006.in', 'Gulp_T_0950_MCS_00001.in', 'Gulp_T_0950_MCS_00006.in', 'Gulp_T_1000_MCS_00001.in', 'Gulp_T_1000_MCS_00006.in']\n"
     ]
    }
   ],
   "source": [
    "# Generating list containing input and output filenames for lattice configurations at each simulation T\n",
    "input_files=[]\n",
    "Q_param_files=[]\n",
    "site_occ_files=[]\n",
    "disorder_sites_files=[]\n",
    "error_files=[]\n",
    "order_files=[]\n",
    "for T in range (TMIN, TMAX+TSTEP, TSTEP):\n",
    "    T_formatted= str(T).zfill(4)\n",
    "    for output in range (1, MCMegaSteps+1, int(StepSize)):\n",
    "        output_formatted= str(output).zfill(5)\n",
    "        site_occ_files.append(\"Q_data/site_occupancies_T_\"+str(T_formatted)+\"_MCS_\"+str(output_formatted)+\".txt\")\n",
    "        disorder_sites_files.append(\"Q_data/disordered_sites_T_\"+str(T_formatted)+\"_MCS_\"+str(output_formatted)+\".txt\")\n",
    "        error_files.append(\"Q_data/error_log_T_\"+str(T_formatted)+\"_MCS_\"+str(output_formatted)+\".txt\")\n",
    "        order_files.append(\"Q_data/order_log_T_\"+str(T_formatted)+\"_MCS_\"+str(output_formatted)+\".txt\")\n",
    "        input_files.append(\"Gulp_T_\"+str(T_formatted)+\"_MCS_\"+str(output_formatted)+\".in\")\n",
    "        Q_param_files.append(\"Q_data/Q_parameter_T_\"+str(T_formatted)+\"_MCS_\"+str(output_formatted)+\".txt\")\n",
    "        \n",
    "print(input_files)"
   ]
  },
  {
   "cell_type": "markdown",
   "metadata": {},
   "source": [
    "## 4. Calculate that Q parameter!\n",
    "Now we will calculate Q for each input file contained in the list above and average over several outputs for each T, in multiples of MCEqmSteps for de-coupled data."
   ]
  },
  {
   "cell_type": "code",
   "execution_count": 4,
   "metadata": {},
   "outputs": [
    {
     "name": "stdout",
     "output_type": "stream",
     "text": [
      "Calculating averaged Q for T = 0 K lattice configuration\n"
     ]
    },
    {
     "name": "stderr",
     "output_type": "stream",
     "text": [
      "/Users/suzy/anaconda/lib/python2.7/site-packages/IPython/core/interactiveshell.py:2717: DtypeWarning: Columns (2) have mixed types. Specify dtype option on import or set low_memory=False.\n",
      "  interactivity=interactivity, compiler=compiler, result=result)\n"
     ]
    },
    {
     "name": "stdout",
     "output_type": "stream",
     "text": [
      "Calculating averaged Q for T = 50 K lattice configuration\n",
      "Calculating averaged Q for T = 100 K lattice configuration\n",
      "Calculating averaged Q for T = 150 K lattice configuration\n",
      "Calculating averaged Q for T = 200 K lattice configuration\n",
      "Calculating averaged Q for T = 250 K lattice configuration\n",
      "Calculating averaged Q for T = 300 K lattice configuration\n",
      "Calculating averaged Q for T = 350 K lattice configuration\n",
      "Calculating averaged Q for T = 400 K lattice configuration\n",
      "Calculating averaged Q for T = 450 K lattice configuration\n",
      "Calculating averaged Q for T = 500 K lattice configuration\n",
      "Calculating averaged Q for T = 550 K lattice configuration\n",
      "Calculating averaged Q for T = 600 K lattice configuration\n",
      "Calculating averaged Q for T = 650 K lattice configuration\n",
      "Calculating averaged Q for T = 700 K lattice configuration\n",
      "Calculating averaged Q for T = 750 K lattice configuration\n",
      "Calculating averaged Q for T = 800 K lattice configuration\n",
      "Calculating averaged Q for T = 850 K lattice configuration\n",
      "Calculating averaged Q for T = 900 K lattice configuration\n",
      "Calculating averaged Q for T = 950 K lattice configuration\n",
      "Calculating averaged Q for T = 1000 K lattice configuration\n"
     ]
    }
   ],
   "source": [
    "%matplotlib inline\n",
    "import sys\n",
    "import numpy as np\n",
    "import math\n",
    "import matplotlib.pyplot as plt\n",
    "import pandas as pd\n",
    "\n",
    "# Defining temperature list from user input and initialising empty list to write Q as a function of T to\n",
    "T = np.arange(TMIN, TMAX+TSTEP, TSTEP)\n",
    "Q_vs_T =[]\n",
    "\n",
    "# Defining row number where cation coords start and end based on supercell dimensions\n",
    "cation_coord_start = 9+8*(X_dim//2)*(Y_dim//2)*(Z_dim//4)  # Skipping over S ions (9 lines of text, 8 S ions per 2x2x4 unit)\n",
    "cation_coord_end = cation_coord_start+(X_dim*Y_dim*Z_dim)//2    # half of initial lattice contained gap sites which are not written to gulp input file\n",
    "\n",
    "# Halving Z lattice dimension because half of initial lattice sites are empty, which are not written to the gulp input (see lattice initialisation method2 in eris-lattice.c)\n",
    "Z=Z_dim//2  # /2 because gap sites from lattice[x][y][z] not written to gulp input\n",
    "X=X_dim\n",
    "Y=Y_dim\n",
    "\n",
    "# Reading in data files and calculating Q for each T\n",
    "\n",
    "# Loop to step over data files at each T\n",
    "count = 0\n",
    "for i in range (0, len(input_files), int(outputs_tot)):\n",
    "    \n",
    "    Q = []\n",
    "    \n",
    "    print(\"Calculating averaged Q for T = \"+str(T[count])+\" K lattice configuration\")\n",
    "    \n",
    "    # Loop over input files for each T\n",
    "    for j in range (i, i+int(outputs_tot-1), 1):\n",
    "        # Reading in gulp input file and storing as a matrix where data[row from zero][col from zero]\n",
    "        data = pd.read_csv(input_files[j], names =[\"species\", \"core\", \"x\", \"y\", \"z\", \"charge\"], delimiter=\" \").as_matrix()\n",
    "        # Initialising empty lists for occupancy of 2a, 2b, 2c and 2d sites + a list containing coordinates (full gulp input row) for disordered sites\n",
    "        a=[]\n",
    "        b=[]\n",
    "        c=[]\n",
    "        d=[]\n",
    "        disordered=[]\n",
    "        order_log=[]\n",
    "        error_log=[]\n",
    "        Cu_2c=0\n",
    "        Zn_2d=0\n",
    "        Cu_2d=0\n",
    "        Zn_2c=0\n",
    "        # Opening files to write to\n",
    "        Q_param_file=open(Q_param_files[j],'w')\n",
    "        occupancies_file=open(site_occ_files[j],'w')\n",
    "        disorder_file=open(disorder_sites_files[j], 'w')\n",
    "        error_log_file=open(error_files[j], 'w')\n",
    "        order_log_file=open(order_files[j], 'w')\n",
    "    \n",
    "        # ----- Begin calculation of Q parameter -------------------------------------\n",
    "        # Initialising number of rows contained within each x-loop iteration\n",
    "        x_block=0\n",
    "\n",
    "        for x in range(0, X):\n",
    "            for y in range(0, Y):\n",
    "                # --------------------- even x,y -----------------------------------------------\n",
    "                if ( math.fmod(x, 2) == 0 and math.fmod(y, 2) == 0 ):\n",
    "                    # Looping over list of z (repeats every 2 species)\n",
    "                    for z in range(cation_coord_start, Z+cation_coord_start, 2):\n",
    "                    \n",
    "                        # Writing species to 2b site file\n",
    "                        b.append(data[z + (y*Z) + x_block][0])\n",
    "                        # Checking if first of two repeating species for even x, even y list is correct\n",
    "                        if data[z + (y*Z) + x_block][0] == \"Sn\":    ### 2b site\n",
    "                            order_log.append(\"yes! - Sn is Sn\")\n",
    "                        else: \n",
    "                            error_log.append(\"uh oh! Sn error! -- \"+str(data[z + (y*Z) + x_block][0]))\n",
    "                            print(\"Looks like there's some Sn disorder! Has Sn been unfrozen?\")\n",
    "                            disordered.append(str(data[z + (y*Z) + x_block][:]))\n",
    "   \n",
    "                        # Writing species to 2a site file\n",
    "                        a.append(data[z+1 + (y*Z) + x_block][0])\n",
    "                        # Checking if second of two repeating species for even x, even y list is correct\n",
    "                        if data[z+1 + (y*Z) + x_block][0] == \"Cu\":    ### 2a site\n",
    "                            order_log.append(\"yes! - Cu is Cu\")\n",
    "                        else:\n",
    "                            error_log.append(\"uh oh! Cu error! -- \"+str(data[z+1 + (y*Z) + x_block][0]))\n",
    "                            print(\"Cu is not on the 2a site - are you simulating 3D Cu-Zn disorder?\")\n",
    "                            disordered.append(str(data[z+1 + (y*Z) + x_block][:]))  \n",
    " \n",
    "                # ------------------ even x, odd y --------------------------------------------\n",
    "                elif ( math.fmod(x, 2) == 0 and math.fmod(y, 2) != 0 ):\n",
    "                    # Loop over list of length Z\n",
    "                    for z in range(cation_coord_start, Z+cation_coord_start, 2):\n",
    "                    \n",
    "                        # Writing species to 2d site file\n",
    "                        d.append(data[z + (y*Z) + x_block][0])\n",
    "                        if data[z + (y*Z) + x_block][0] == \"Zn\":   ### 2d site\n",
    "                            order_log.append(\"yes! - Zn is Zn!\")\n",
    "                            Zn_2d += 1\n",
    "                        else:\n",
    "                            error_log.append(\"uh oh! Zn error! -- \"+str(data[z + (y*Z) + x_block][0]))\n",
    "                            disordered.append(str(data[z + (y*Z) + x_block][:]))\n",
    "                            if data[z + (y*Z) + x_block][0] == \"Cu\":\n",
    "                                Cu_2d += 1\n",
    "\n",
    "                        # Writing species to 2c site file\n",
    "                        c.append(data[z+1 + (y*Z) + x_block][0])\n",
    "                        if data[z+1 + (y*Z) + x_block][0] == \"Cu\":   ### 2c site\n",
    "                            order_log.append(\"yes! - Cu is Cu again\")\n",
    "                            Cu_2c += 1\n",
    "                        else:\n",
    "                            error_log.append(\"uh oh! error for 2c Cu -- \"+str(data[z+1 + (y*Z) + x_block][0]))\n",
    "                            disordered.append(str(data[z+1 + (y*Z) + x_block][:]))\n",
    "                            if data[z+1 + (y*Z) + x_block][0] == \"Zn\":\n",
    "                                Zn_2c += 1\n",
    "\n",
    "                # --------------------- odd x,even y -----------------------------------------------\n",
    "                if ( math.fmod(x, 2) != 0 and math.fmod(y, 2) == 0 ):\n",
    "  \n",
    "                    # Looping over list of z (repeats every 2 species)\n",
    "                    for z in range(cation_coord_start, Z+cation_coord_start, 2):\n",
    "  \n",
    "                        # Writing species to 2c site file\n",
    "                        c.append(data[z + (y*Z) + x_block][0])\n",
    "                        # Checking if first of two repeating species for even x, even y list is correct\n",
    "                        if data[z + (y*Z) + x_block][0] == \"Cu\":    ### 2c site\n",
    "                            order_log.append(\"yes! - Cu is Cu again\")\n",
    "                            Cu_2c += 1\n",
    "                        else:\n",
    "                            error_log.append(\"uh oh! Cu 2c error! -- \"+str(data[z + (y*Z) + x_block][0]))\n",
    "                            disordered.append(str(data[z + (y*Z) + x_block][:]))\n",
    "                        if data[z + (y*Z) + x_block][0] == \"Zn\":\n",
    "                            Zn_2c += 1\n",
    "         \n",
    "                        # Writing species to 2d site file\n",
    "                        d.append(data[z+1 + (y*Z) + x_block][0]) \n",
    "                        # Checking if second of two repeating species for even x, even y list is correct\n",
    "                        if data[z+1 + (y*Z) + x_block][0] == \"Zn\":    ### 2d site\n",
    "                            order_log.append(\"yes! - Zn is Zn\")\n",
    "                            Zn_2d += 1\n",
    "                        else:\n",
    "                            error_log.append(\"uh oh! Zn error! -- \"+str(data[z+1 + (y*Z) + x_block][0]))\n",
    "                            disordered.append(str(data[z+1 + (y*Z) + x_block][:]))\n",
    "                        if data[z+1 + (y*Z) + x_block][0] == \"Cu\":\n",
    "                            Cu_2d += 1   \n",
    "\n",
    "                # ------------------ odd x,y -----------------------------------------------------\n",
    "                elif ( math.fmod(x, 2) != 0 and math.fmod(y, 2) != 0 ):\n",
    "\n",
    "                    # Loop over list of length Z\n",
    "                    for z in range(cation_coord_start, Z+cation_coord_start, 2):\n",
    "    \n",
    "                        # Writing species to 2a site file\n",
    "                        a.append(data[z + (y*Z) + x_block][0])\n",
    "                        if data[z + (y*Z) + x_block][0] == \"Cu\":     ### 2a site\n",
    "                            order_log.append(\"yes! - Cu is Cu!\")\n",
    "                        else:\n",
    "                            error_log.append(\"uh oh! Cu error! --  \"+str(data[z + (y*Z) + x_block][0]))\n",
    "                            print(\"Cu is not on the 2a site - are you simulating 3D Cu-Zn disorder?\")\n",
    "                            disordered.append(str(data[z + (y*Z) + x_block][:]))\n",
    "\n",
    "                        # Writing species to 2b site file\n",
    "                        b.append(data[z+1 + (y*Z) + x_block][0])\n",
    "                        if data[z+1 + (y*Z) + x_block][0] == \"Sn\":    ### 2b site\n",
    "                            order_log.append(\"yes! - Sn is Sn\")\n",
    "                        else:\n",
    "                            error_log.append(\"uh oh! error for Sn --  \"+str(data[z+1 + (y*Z) + x_block][0]))\n",
    "                            print(\"Looks like there's some Sn disorder! Has Sn been unfrozen?\")\n",
    "                            disordered.append(str(data[z+1 + (y*Z) + x_block][:]))\n",
    "\n",
    "                # --------------------------------------------------------------------------------\n",
    "\n",
    "            # Updating number of rows already checked from previous x-loop iteration\n",
    "            x_block += Y*Z\n",
    "\n",
    "\n",
    "        # ------------------------------------------------------------------------------------\n",
    "        # Writing lists to output files\n",
    "\n",
    "        for i in order_log:\n",
    "            order_log_file.write(i+'\\n')\n",
    "        for i in error_log:\n",
    "            error_log_file.write(i+'\\n') \n",
    "\n",
    "        df = pd.DataFrame({'# 2a' : a, '2b' : b, '2c' : c, '2d' : d})\n",
    "        df.to_csv(occupancies_file, sep='\\t')\n",
    "\n",
    "        for i in disordered:\n",
    "            disorder_file.write(i+'\\n')\n",
    "\n",
    "        # Calculating Q parameter\n",
    "        Q.append(float( (Cu_2c + Zn_2d) - (Zn_2c + Cu_2d) ) / ( (Cu_2c + Zn_2d) + (Zn_2c + Cu_2d) ) )\n",
    "\n",
    "        Q_param_file.write('# Q ='+str(Q)+'\\n')\n",
    "        Q_param_file.write('# Where Q = [ (Cu-on-2c + Zn-on-2d) - (Zn-on-2c + Cu-on-2d) ] / [ (Cu-on-2c + Zn-on-2d) + (Zn-on-2c + Cu-on-2d) ]'+'\\n')\n",
    "        Q_param_file.write('# Q=1 corresponds to perfect order, Q=0 is complete disorder where Cu and Zn (within the Cu-Zn plane only) show no preference for their correct crystallographic site'+'\\n')\n",
    "        Q_param_file.write('# Where Cu is on the 2c site and Zn on the 2d site in ordered CZTS'+'\\n')\n",
    "        Q_param_file.write('# Cu_2c Zn_2d Cu_2d Zn_2c'+'\\n')  \n",
    "        Q_param_file.write(str(Cu_2c)+'   '+str(Zn_2d)+'   '+str(Cu_2d)+'   '+str(Zn_2c))\n",
    "\n",
    "        order_log_file.close()\n",
    "        error_log_file.close()\n",
    "        disorder_file.close()\n",
    "        occupancies_file.close()\n",
    "        Q_param_file.close()\n",
    "    \n",
    "\n",
    "    Q_av= sum(Q)\n",
    "    Q_vs_T.append(Q_av)\n",
    "    \n",
    "    count += 1"
   ]
  },
  {
   "cell_type": "markdown",
   "metadata": {},
   "source": [
    "## 5. Plot Q vs. T for given system size\n",
    "\n",
    "Now, we will plot Q against simulation temperature for this system."
   ]
  },
  {
   "cell_type": "code",
   "execution_count": 5,
   "metadata": {},
   "outputs": [
    {
     "data": {
      "image/png": "[encoded data removed]",
      "text/plain": [
       "<matplotlib.figure.Figure at 0x10b59f250>"
      ]
     },
     "metadata": {},
     "output_type": "display_data"
    }
   ],
   "source": [
    "plt.title(str(X_dim)+'x'+str(Y_dim)+'x'+str(Z_dim)+' lattice')\n",
    "plt.xlabel('Simulation temperature (K)')\n",
    "plt.ylabel('Order parameter Q')\n",
    "plt.plot(T, Q_vs_T)\n",
    "plt.show()"
   ]
  },
  {
   "cell_type": "code",
   "execution_count": 6,
   "metadata": {},
   "outputs": [
    {
     "data": {
      "image/png": "[encoded data removed]",
      "text/plain": [
       "<matplotlib.figure.Figure at 0x10bc5bc10>"
      ]
     },
     "metadata": {},
     "output_type": "display_data"
    }
   ],
   "source": [
    "# Convert above plot to be in deg C for easier comparison to experiment\n",
    "plt.title(str(X_dim)+'x'+str(Y_dim)+'x'+str(Z_dim)+' lattice')\n",
    "plt.xlabel('Simulation temperature ($^{\\circ}C$)')\n",
    "plt.ylabel('Order parameter Q')\n",
    "#plt.xlim(50,250)\n",
    "plt.plot(T-273.15, Q_vs_T)\n",
    "plt.show()"
   ]
  },
  {
   "cell_type": "markdown",
   "metadata": {},
   "source": [
    "Finally, we will output this data so that we can plot the order parameter for several different systems together later if we wish to."
   ]
  },
  {
   "cell_type": "code",
   "execution_count": 7,
   "metadata": {
    "collapsed": true
   },
   "outputs": [],
   "source": [
    "# Writing T's and Q's to a file to plot multiple systems together later\n",
    "df2 = pd.DataFrame({'# T' : T, 'Q' : Q_vs_T})\n",
    "QvsT_file='Q_vs_T_'+str(X_dim)+'x'+str(Y_dim)+'x'+str(Z_dim)+'.dat'\n",
    "df2.to_csv(QvsT_file, sep=' ', index=False, header=False)\n",
    "#df2.to_csv(QvsT_file, sep='\\t')"
   ]
  },
  {
   "cell_type": "markdown",
   "metadata": {},
   "source": [
    "## 6. Investigating finite size effects\n",
    "\n",
    "To plot multiple different sized systems together, repeat the above analysis for different sized systems and then make sure to have the Q_vs_T_XxYxZ.dat file for each system in the same directory before running the script below.\n",
    "\n",
    "This is a bit repetitive, may want to adapt this notebook as a full script that loops over system size to generate the plot below."
   ]
  },
  {
   "cell_type": "code",
   "execution_count": 8,
   "metadata": {
    "scrolled": false
   },
   "outputs": [
    {
     "ename": "SyntaxError",
     "evalue": "invalid syntax (<ipython-input-8-beea870c6845>, line 22)",
     "output_type": "error",
     "traceback": [
      "\u001b[0;36m  File \u001b[0;32m\"<ipython-input-8-beea870c6845>\"\u001b[0;36m, line \u001b[0;32m22\u001b[0m\n\u001b[0;31m    plt.plot(file1[:,0], file1[:,1], label=str(X1)+'x'+str(Y1)+'x'+str(Z1)' averaged over '+str(outputs_tot)+' runs')\u001b[0m\n\u001b[0m                                                                                          ^\u001b[0m\n\u001b[0;31mSyntaxError\u001b[0m\u001b[0;31m:\u001b[0m invalid syntax\n"
     ]
    }
   ],
   "source": [
    "# Enter dimensions of the systems\n",
    "# System 1\n",
    "X2 = 12\n",
    "Y2 = 12\n",
    "Z2 = 12\n",
    "# System 2\n",
    "X1 = 16\n",
    "Y1 = 16\n",
    "Z1 = 16\n",
    "\n",
    "import numpy as np\n",
    "import matplotlib.pyplot as plt\n",
    "from IPython.core.pylabtools import figsize\n",
    "figsize(10, 7)\n",
    "\n",
    "# Plot multiple systems together\n",
    "file1= np.genfromtxt('Q_vs_T_'+str(X1)+'x'+str(Y1)+'x'+str(Z1)+'.dat', delimiter = ' ')\n",
    "file2= np.genfromtxt('Q_vs_T_'+str(X1)+'x'+str(Y1)+'x'+str(Z1)+'.dat', delimiter = ' ')\n",
    "\n",
    "plt.xlabel('Simulation temperature (K)')\n",
    "plt.ylabel('Order parameter Q')\n",
    "plt.plot(file1[:,0], file1[:,1], label=str(X1)+'x'+str(Y1)+'x'+str(Z1)' averaged over '+str(outputs_tot)+' runs')\n",
    "plt.plot(file1[:,0], file1[:,1], label=str(X2)+'x'+str(Y2)+'x'+str(Z2)' averaged over '+str(outputs_tot)+' runs')\n",
    "\n",
    "plt.legend()\n",
    "plt.show()"
   ]
  },
  {
   "cell_type": "code",
   "execution_count": null,
   "metadata": {
    "collapsed": true
   },
   "outputs": [],
   "source": []
  }
 ],
 "metadata": {
  "celltoolbar": "Raw Cell Format",
  "kernelspec": {
   "display_name": "Python 3",
   "language": "python",
   "name": "python3"
  },
  "language_info": {
   "codemirror_mode": {
    "name": "ipython",
    "version": 2
   },
   "file_extension": ".py",
   "mimetype": "text/x-python",
   "name": "python",
   "nbconvert_exporter": "python",
   "pygments_lexer": "ipython2",
   "version": "2.7.13"
  }
 },
 "nbformat": 4,
 "nbformat_minor": 1
}
